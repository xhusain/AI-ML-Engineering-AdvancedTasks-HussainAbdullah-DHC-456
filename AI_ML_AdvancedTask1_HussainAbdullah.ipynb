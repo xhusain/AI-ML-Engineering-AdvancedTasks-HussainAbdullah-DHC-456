{
  "cells": [
    {
      "cell_type": "code",
      "execution_count": null,
      "metadata": {
        "id": "IDDUCUnmGRn1"
      },
      "outputs": [],
      "source": [
        "import torch\n",
        "from datasets import load_dataset, DatasetDict\n",
        "from transformers import BertTokenizerFast, BertForSequenceClassification, Trainer, TrainingArguments\n",
        "import numpy as np\n",
        "from sklearn.metrics import accuracy_score, f1_score\n",
        "\n",
        "from datasets import load_dataset\n",
        "\n",
        "# dataset link: https://www.kaggle.com/datasets/amananandrai/ag-news-classification-dataset\n",
        "data = load_dataset(\n",
        "    'csv',\n",
        "    data_files={\n",
        "        'train': r'D:\\AU\\Internships\\DHC - ML\\AI_ML_AdvancedTasks\\AI-ML-AdvancedTask1_HussainAbdullah\\ag_news\\train.csv',\n",
        "        'test': r'D:\\AU\\Internships\\DHC - ML\\AI_ML_AdvancedTasks\\AI-ML-AdvancedTask1_HussainAbdullah\\ag_news\\test.csv'\n",
        "    }\n",
        ")\n",
        "data = data.rename_column('description', 'text').rename_column('label', 'labels')\n",
        "\n",
        "# Tokenizer & tokenize\n",
        "model_name = \"bert-base-uncased\"\n",
        "tokenizer = BertTokenizerFast.from_pretrained(model_name)\n",
        "\n",
        "def preprocess(batch):\n",
        "    return tokenizer(batch['text'], truncation=True, padding='max_length', max_length=128)\n",
        "\n",
        "data = data.map(preprocess, batched=True)\n",
        "data = data.remove_columns(['text','title'])  # drop unused\n",
        "data.set_format('torch')\n",
        "\n",
        "# Model\n",
        "model = BertForSequenceClassification.from_pretrained(model_name, num_labels=4)\n",
        "\n",
        "# Metrics\n",
        "def compute_metrics(eval_pred):\n",
        "    logits, labels = eval_pred\n",
        "    preds = np.argmax(logits, axis=-1)\n",
        "    return {\n",
        "        'accuracy': accuracy_score(labels, preds),\n",
        "        'f1': f1_score(labels, preds, average='weighted')\n",
        "    }\n",
        "\n",
        "# Training\n",
        "args = TrainingArguments(\n",
        "    output_dir='./results',\n",
        "    evaluation_strategy='epoch',\n",
        "    per_device_train_batch_size=16,\n",
        "    per_device_eval_batch_size=32,\n",
        "    num_train_epochs=3,\n",
        "    save_total_limit=1,\n",
        "    load_best_model_at_end=True,\n",
        "    metric_for_best_model='f1'\n",
        ")\n",
        "trainer = Trainer(\n",
        "    model=model,\n",
        "    args=args,\n",
        "    train_dataset=data['train'],\n",
        "    eval_dataset=data['test'],\n",
        "    compute_metrics=compute_metrics\n",
        ")\n",
        "\n",
        "trainer.train()\n",
        "trainer.evaluate()\n",
        "trainer.save_model('./agnews-bert-classifier')\n",
        "tokenizer.save_pretrained('./agnews-bert-classifier')"
      ]
    }
  ],
  "metadata": {
    "colab": {
      "provenance": []
    },
    "kernelspec": {
      "display_name": "Python 3",
      "name": "python3"
    },
    "language_info": {
      "name": "python"
    }
  },
  "nbformat": 4,
  "nbformat_minor": 0
}
